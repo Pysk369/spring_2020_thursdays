{
 "cells": [
  {
   "cell_type": "markdown",
   "metadata": {},
   "source": [
    "Review the material from the last class\n",
    "\n",
    "Quick overview: \n",
    "+ Ways of interacting with your computer… pros and cons.\n",
    "+ What is a shell?\n",
    "+ Thinking beyond local computing\n",
    "+ Command prompt\n",
    "+ The file system\n",
    "+ How do we think/learn about command line programs\n",
    "+ Some examples of programs we will use.\n"
   ]
  },
  {
   "cell_type": "markdown",
   "metadata": {},
   "source": [
    "## The shell "
   ]
  },
  {
   "cell_type": "markdown",
   "metadata": {},
   "source": [
    "![Layers of computing](https://nih-fmrif.github.io/NIMH_repro_2017_03/fig/layers_of_computing.png)"
   ]
  },
  {
   "cell_type": "markdown",
   "metadata": {},
   "source": [
    "What are the different types of shells and what are their pros and cons?"
   ]
  },
  {
   "cell_type": "markdown",
   "metadata": {},
   "source": [
    "## Enabling general approaches to using computers"
   ]
  },
  {
   "cell_type": "markdown",
   "metadata": {},
   "source": [
    "Learning a command line shell can be useful regardless of compute architecture/locality/operating system. It can serve as an efficient foundation for reproducibly carrying out many computing tasks."
   ]
  },
  {
   "cell_type": "markdown",
   "metadata": {},
   "source": [
    "## What does a shell CLI look like?"
   ]
  },
  {
   "cell_type": "markdown",
   "metadata": {},
   "source": [
    "The bash prompt..."
   ]
  },
  {
   "cell_type": "markdown",
   "metadata": {},
   "source": [
    "## Using the shell to interact with your computer"
   ]
  },
  {
   "cell_type": "markdown",
   "metadata": {},
   "source": [
    "+ Learn the following: `pwd`, tab completion, `ls`, getting help,  providing arguments/options, hidden files, `mkdir`, `cd`, `touch`, `rm`, `rmdir`, `echo`, redirection (`>`, `>>`, and `|` among others), `cat`, `head`, `cp`, `mv`, `less`, [globbing](https://www.tldp.org/LDP/abs/html/globbingref.html)"
   ]
  },
  {
   "cell_type": "markdown",
   "metadata": {},
   "source": [
    "+ Make sure to understand how the filesystem is organized and how to edit text files."
   ]
  },
  {
   "cell_type": "markdown",
   "metadata": {},
   "source": [
    "+ Some more advanced commands worth considering: `which`, `find`, `grep`, `ps`, `locate`, `sed`, `sort`, `chmod`, `chown`, `sudo` and [lots more](https://www.ubuntupit.com/the-50-best-linux-commands-to-run-in-the-terminal/)"
   ]
  },
  {
   "cell_type": "markdown",
   "metadata": {},
   "source": [
    "## Other things that we will use"
   ]
  },
  {
   "cell_type": "markdown",
   "metadata": {},
   "source": [
    "+ Quick overview of git (old_course_notebooks/2019-11-07 has an overview) and how to download a git repository.\n",
    "+ python\n",
    "+ ipython\n",
    "+ jupyter lab"
   ]
  },
  {
   "cell_type": "markdown",
   "metadata": {},
   "source": [
    "## Other resources:"
   ]
  },
  {
   "cell_type": "markdown",
   "metadata": {},
   "source": [
    "+ [Overview of shell](https://swcarpentry.github.io/shell-novice/) for more self directed learning\n",
    "+ The [class repository](https://github.com/biof309/spring_2020_thursdays.git)\n",
    "\n",
    "+ The [jupyter documentation](https://jupyterlab.readthedocs.io/en/stable/)\n",
    "+ A [whirlwind tour of python](https://github.com/jakevdp/WhirlwindTourOfPython)\n",
    "+ The datacamp homework..."
   ]
  }
 ],
 "metadata": {
  "kernelspec": {
   "display_name": "Python 3",
   "language": "python",
   "name": "python3"
  },
  "language_info": {
   "codemirror_mode": {
    "name": "ipython",
    "version": 3
   },
   "file_extension": ".py",
   "mimetype": "text/x-python",
   "name": "python",
   "nbconvert_exporter": "python",
   "pygments_lexer": "ipython3",
   "version": "3.7.4"
  }
 },
 "nbformat": 4,
 "nbformat_minor": 4
}
